{
 "cells": [
  {
   "cell_type": "markdown",
   "metadata": {},
   "source": [
    "# Gradient Descent\n",
    "\n",
    "Gradient Descent is an algorithm that finds the local extrema of a function. This is applicable to machine learning, because we want to find the optimal parameters that minimize our loss function. In machine learning, loss functions quantify the amount of error between the predicted values from a machine learning model and the actual expected values. In this notebook, we will perform linear regression by using gradient descent to find the optimal slope and y-intercept. "
   ]
  },
  {
   "cell_type": "markdown",
   "metadata": {},
   "source": [
    "## Deriving Mathematical Formulas"
   ]
  },
  {
   "cell_type": "markdown",
   "metadata": {},
   "source": [
    "Importing the libraries"
   ]
  },
  {
   "cell_type": "code",
   "execution_count": 1,
   "metadata": {},
   "outputs": [],
   "source": [
    "import matplotlib.pyplot as plt\n",
    "import numpy as np\n",
    "from IPython.display import display, Latex, Image\n",
    "from sympy import Derivative, Indexed, Sum, init_printing, lambdify, symbols, latex\n",
    "from celluloid import Camera\n",
    "\n",
    "init_printing()"
   ]
  },
  {
   "cell_type": "markdown",
   "metadata": {},
   "source": [
    "We will use the mean squared error function as our loss function.\n",
    "$$ MSE = \\frac{1}{n} \\sum_{i=1}^{n}(y_{i}-\\hat{y})^2 $$\n",
    "\n",
    "Now, let's represent the mean squared error function in our code using the SymPy library."
   ]
  },
  {
   "cell_type": "code",
   "execution_count": 2,
   "metadata": {},
   "outputs": [
    {
     "data": {
      "image/png": "[encoded data removed]",
      "text/latex": [
       "$\\displaystyle \\frac{\\sum_{i=0}^{n} \\left(- y_{hat} + {y}_{i}\\right)^{2}}{N}$"
      ],
      "text/plain": [
       "  n                  \n",
       " ___                 \n",
       " ╲                   \n",
       "  ╲                 2\n",
       "  ╱   (-yₕₐₜ + y[i]) \n",
       " ╱                   \n",
       " ‾‾‾                 \n",
       "i = 0                \n",
       "─────────────────────\n",
       "          N          "
      ]
     },
     "metadata": {},
     "output_type": "display_data"
    }
   ],
   "source": [
    "x, y, n, N, y_hat, w, b, i = symbols(\"x y n N y_hat w b i\")\n",
    "x_i = Indexed(\"x\", i)\n",
    "y_i = Indexed(\"y\", i)\n",
    "\n",
    "s = 1 / N * Sum((y_i - y_hat) ** 2, (i, 0, n))\n",
    "display(s)"
   ]
  },
  {
   "cell_type": "markdown",
   "metadata": {},
   "source": [
    "Since we are implementing a linear regression model, where $\\hat{y} = w x + b$, we can update our mean squared error function by substituting $\\hat{y}$ with $w x + b$.\n",
    "\n",
    "$$ MSE = \\frac{1}{n} \\sum_{i=1}^{n}(y_{i}-(w x_{i} + b))^2 $$\n",
    "\n",
    "Let's also update our SymPy representation of the loss function in the code."
   ]
  },
  {
   "cell_type": "code",
   "execution_count": 3,
   "metadata": {},
   "outputs": [
    {
     "data": {
      "image/png": "[encoded data removed]",
      "text/latex": [
       "$\\displaystyle \\frac{\\sum_{i=0}^{n} \\left(- b - w {x}_{i} + {y}_{i}\\right)^{2}}{N}$"
      ],
      "text/plain": [
       "  n                        \n",
       " ___                       \n",
       " ╲                         \n",
       "  ╲                       2\n",
       "  ╱   (-b - w⋅x[i] + y[i]) \n",
       " ╱                         \n",
       " ‾‾‾                       \n",
       "i = 0                      \n",
       "───────────────────────────\n",
       "             N             "
      ]
     },
     "metadata": {},
     "output_type": "display_data"
    }
   ],
   "source": [
    "s = s.subs(y_hat, w * x_i + b)\n",
    "display(s)"
   ]
  },
  {
   "cell_type": "markdown",
   "metadata": {},
   "source": [
    "In each epoch of gradient descent, a parameter is updated by subtracting the product of the gradient of the function and the learning rate ($lr$). The learning rate controls how much the parameters should change. Small learning rates are precise, but are slow. Large learning rates are fast, but may prevent the model from finding the local extrema.\n",
    "$$ X_{n+1} = X_n - lr * \\frac{\\partial}{\\partial X} f(X_n)$$\n",
    "\n",
    "Since we are finding the optimal slope ($w$) and y-intercept ($b$) for our linear regression model, we must find the partial derivatives of the loss function with respect to $w$ and $b$.\n",
    "\n",
    "$$ \\frac{\\partial }{\\partial w} \\left( MSE \\right) = \\frac{1}{n} \\sum_{i=1}^{n}-2x_{i}(y_{i}-(w x_{i} + b)) $$\n",
    "$$ \\frac{\\partial}{\\partial b} \\left( MSE \\right) =  \\frac{1}{n} \\sum_{i=1}^{n}=-2(y_{i}-(w x_{i} + b)) $$\n",
    "\n",
    "Let's find the partial derivatives of the loss function in our code."
   ]
  },
  {
   "cell_type": "code",
   "execution_count": 4,
   "metadata": {},
   "outputs": [
    {
     "data": {
      "text/latex": [
       "$$\\frac{\\partial}{\\partial b} \\frac{\\sum_{i=0}^{n} \\left(- b - w {x}_{i} + {y}_{i}\\right)^{2}}{N} = \\frac{\\sum_{i=0}^{n} \\left(2 b + 2 w {x}_{i} - 2 {y}_{i}\\right)}{N}$$"
      ],
      "text/plain": [
       "<IPython.core.display.Latex object>"
      ]
     },
     "metadata": {},
     "output_type": "display_data"
    },
    {
     "data": {
      "text/latex": [
       "$$\\frac{\\partial}{\\partial w} \\frac{\\sum_{i=0}^{n} \\left(- b - w {x}_{i} + {y}_{i}\\right)^{2}}{N} = \\frac{\\sum_{i=0}^{n} - 2 \\left(- b - w {x}_{i} + {y}_{i}\\right) {x}_{i}}{N}$$"
      ],
      "text/plain": [
       "<IPython.core.display.Latex object>"
      ]
     },
     "metadata": {},
     "output_type": "display_data"
    }
   ],
   "source": [
    "deriv_dsdb = Derivative(s, b)\n",
    "dsdb = deriv_dsdb.doit()\n",
    "display(Latex(\"$${} = {}$$\".format(latex(deriv_dsdb), latex(dsdb))))\n",
    "\n",
    "deriv_dsdw = Derivative(s, w)\n",
    "dsdw = deriv_dsdw.doit()\n",
    "display(Latex(\"$${} = {}$$\".format(latex(deriv_dsdw), latex(dsdw))))"
   ]
  },
  {
   "cell_type": "markdown",
   "metadata": {},
   "source": [
    "Now that we have derived all of the formulas, let's turn these SymPy objects into Python functions that we can call."
   ]
  },
  {
   "cell_type": "code",
   "execution_count": 5,
   "metadata": {},
   "outputs": [],
   "source": [
    "f = lambdify([x, y, w, b, n, N], s)\n",
    "dsdb_f = lambdify([x, y, w, b, n, N], dsdb)\n",
    "dsdw_f = lambdify([x, y, w, b, n, N], dsdw)"
   ]
  },
  {
   "cell_type": "code",
   "execution_count": 6,
   "metadata": {},
   "outputs": [
    {
     "name": "stdout",
     "output_type": "stream",
     "text": [
      "MSE 36.25\n",
      "MSE 36.25\n"
     ]
    }
   ],
   "source": [
    "# Double check that our MSE function is working\n",
    "A = np.array([1, 2, 3, 4])\n",
    "B = np.array([5, 10, 4, 12])\n",
    "\n",
    "print(\"MSE\", np.square(np.subtract(A, B)).mean())\n",
    "print(\"MSE\", f(A, B, 1, 0, A.size - 1, A.size))"
   ]
  }
 ],
 "metadata": {
  "kernelspec": {
   "display_name": "Python 3 (ipykernel)",
   "language": "python",
   "name": "python3"
  },
  "language_info": {
   "codemirror_mode": {
    "name": "ipython",
    "version": 3
   },
   "file_extension": ".py",
   "mimetype": "text/x-python",
   "name": "python",
   "nbconvert_exporter": "python",
   "pygments_lexer": "ipython3",
   "version": "3.9.12"
  }
 },
 "nbformat": 4,
 "nbformat_minor": 4
}
